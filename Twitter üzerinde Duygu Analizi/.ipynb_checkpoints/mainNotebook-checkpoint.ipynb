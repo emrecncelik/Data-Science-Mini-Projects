{
 "cells": [
  {
   "cell_type": "markdown",
   "metadata": {},
   "source": [
    "# Twitter üzerinde Duygu Analizi\n",
    "Yunus Emre Gündoğmuş - 21 Mayıs 2020\n",
    "\n",
    "### Referanslar\n",
    "- [How to Scrape Tweets From Twitter](https://towardsdatascience.com/how-to-scrape-tweets-from-twitter-59287e20f0f1)\n",
    "- [Savaş Yıldırım - Bert-base Turkish Sentiment Model](https://huggingface.co/savasy/bert-base-turkish-sentiment-cased)"
   ]
  },
  {
   "cell_type": "markdown",
   "metadata": {},
   "source": [
    "### Kütüphalerin İçeri Alınması"
   ]
  },
  {
   "cell_type": "code",
   "execution_count": null,
   "metadata": {},
   "outputs": [],
   "source": [
    "!pip install transformers\n",
    "!pip install tweepy\n",
    "!pip install tqdm"
   ]
  },
  {
   "cell_type": "code",
   "execution_count": 1,
   "metadata": {},
   "outputs": [],
   "source": [
    "# Twitter API\n",
    "import tweepy\n",
    "\n",
    "# Data Manipulation\n",
    "from tqdm import tqdm\n",
    "import pandas as pd\n",
    "import numpy as np\n",
    "import time\n",
    "\n",
    "# Bert Model\n",
    "from transformers import AutoModelForSequenceClassification, AutoTokenizer, pipeline"
   ]
  },
  {
   "cell_type": "markdown",
   "metadata": {},
   "source": [
    "### Twitter API Ayarlarının Yapılması"
   ]
  },
  {
   "cell_type": "code",
   "execution_count": 2,
   "metadata": {},
   "outputs": [],
   "source": [
    "# API için Keyler\n",
    "# API link: https://developer.twitter.com/en/apps\n",
    "\n",
    "consumer_key = \"xxxx\"\n",
    "consumer_secret = \"xxxx\"\n",
    "access_token = \"xxxx\"\n",
    "access_token_secret = \"xxxx\"\n",
    "\n",
    "auth = tweepy.OAuthHandler(consumer_key, consumer_secret)\n",
    "auth.set_access_token(access_token, access_token_secret)\n",
    "api = tweepy.API(auth,wait_on_rate_limit=True)"
   ]
  },
  {
   "cell_type": "markdown",
   "metadata": {},
   "source": [
    "### Korona Anahtar kelimesindeki 100 tweet'in çekilmesi"
   ]
  },
  {
   "cell_type": "code",
   "execution_count": 3,
   "metadata": {},
   "outputs": [],
   "source": [
    "tweets_list = []\n",
    "text_query = 'Korona'\n",
    "count = 100\n",
    "\n",
    "for tweet in api.search(q=text_query, count=count, lang='tr-tr'):\n",
    "    tweets_list.append((tweet.created_at,tweet.id,tweet.text))"
   ]
  },
  {
   "cell_type": "code",
   "execution_count": 4,
   "metadata": {},
   "outputs": [
    {
     "data": {
      "text/html": [
       "<div>\n",
       "<style scoped>\n",
       "    .dataframe tbody tr th:only-of-type {\n",
       "        vertical-align: middle;\n",
       "    }\n",
       "\n",
       "    .dataframe tbody tr th {\n",
       "        vertical-align: top;\n",
       "    }\n",
       "\n",
       "    .dataframe thead th {\n",
       "        text-align: right;\n",
       "    }\n",
       "</style>\n",
       "<table border=\"1\" class=\"dataframe\">\n",
       "  <thead>\n",
       "    <tr style=\"text-align: right;\">\n",
       "      <th></th>\n",
       "      <th>Tarih</th>\n",
       "      <th>Tweet_id</th>\n",
       "      <th>Text</th>\n",
       "    </tr>\n",
       "  </thead>\n",
       "  <tbody>\n",
       "    <tr>\n",
       "      <td>0</td>\n",
       "      <td>2020-05-19 16:48:55</td>\n",
       "      <td>1262787328394825729</td>\n",
       "      <td>RT @GllkMuhammet: Yine bir Milli Bayram, AKP Y...</td>\n",
       "    </tr>\n",
       "    <tr>\n",
       "      <td>1</td>\n",
       "      <td>2020-05-19 16:48:52</td>\n",
       "      <td>1262787318227832833</td>\n",
       "      <td>RT @GkhnKhrman: Türkiye 70 yıllık rüyasını ger...</td>\n",
       "    </tr>\n",
       "    <tr>\n",
       "      <td>2</td>\n",
       "      <td>2020-05-19 16:48:44</td>\n",
       "      <td>1262787281636806659</td>\n",
       "      <td>Valla sınavdan sonra korona olursam hiç acımam...</td>\n",
       "    </tr>\n",
       "    <tr>\n",
       "      <td>3</td>\n",
       "      <td>2020-05-19 16:48:43</td>\n",
       "      <td>1262787277446676485</td>\n",
       "      <td>Sağlık Bakanlığı, Türkiye’nin son 24 saatlik k...</td>\n",
       "    </tr>\n",
       "    <tr>\n",
       "      <td>4</td>\n",
       "      <td>2020-05-19 16:48:39</td>\n",
       "      <td>1262787264574341120</td>\n",
       "      <td>RT @agrresifhatun: Korona bizi bitirdin beee</td>\n",
       "    </tr>\n",
       "  </tbody>\n",
       "</table>\n",
       "</div>"
      ],
      "text/plain": [
       "                Tarih             Tweet_id  \\\n",
       "0 2020-05-19 16:48:55  1262787328394825729   \n",
       "1 2020-05-19 16:48:52  1262787318227832833   \n",
       "2 2020-05-19 16:48:44  1262787281636806659   \n",
       "3 2020-05-19 16:48:43  1262787277446676485   \n",
       "4 2020-05-19 16:48:39  1262787264574341120   \n",
       "\n",
       "                                                Text  \n",
       "0  RT @GllkMuhammet: Yine bir Milli Bayram, AKP Y...  \n",
       "1  RT @GkhnKhrman: Türkiye 70 yıllık rüyasını ger...  \n",
       "2  Valla sınavdan sonra korona olursam hiç acımam...  \n",
       "3  Sağlık Bakanlığı, Türkiye’nin son 24 saatlik k...  \n",
       "4       RT @agrresifhatun: Korona bizi bitirdin beee  "
      ]
     },
     "execution_count": 4,
     "metadata": {},
     "output_type": "execute_result"
    }
   ],
   "source": [
    "tweets = pd.DataFrame(tweets_list, columns=[\"Tarih\",'Tweet_id','Text'])\n",
    "tweets.head()"
   ]
  },
  {
   "cell_type": "markdown",
   "metadata": {},
   "source": [
    "### Eğitilmiş BERT Modeli Kullanarak Duygu Analizinin Yapılması"
   ]
  },
  {
   "cell_type": "code",
   "execution_count": 5,
   "metadata": {},
   "outputs": [],
   "source": [
    "# Eğitilmiş Ağırlıkların Yüklenmesi\n",
    "model = AutoModelForSequenceClassification.from_pretrained(\"savasy/bert-base-turkish-sentiment-cased\")\n",
    "tokenizer = AutoTokenizer.from_pretrained(\"savasy/bert-base-turkish-sentiment-cased\")\n",
    "\n",
    "sentiment_analysis_pipeline= pipeline(\"sentiment-analysis\", tokenizer=tokenizer, model=model)"
   ]
  },
  {
   "cell_type": "code",
   "execution_count": 6,
   "metadata": {},
   "outputs": [
    {
     "data": {
      "text/plain": [
       "[{'label': 'LABEL_1', 'score': 0.97204685}]"
      ]
     },
     "execution_count": 6,
     "metadata": {},
     "output_type": "execute_result"
    }
   ],
   "source": [
    "sentiment_analysis_pipeline(\"seni seviyorum\")"
   ]
  },
  {
   "cell_type": "code",
   "execution_count": 7,
   "metadata": {},
   "outputs": [
    {
     "name": "stderr",
     "output_type": "stream",
     "text": [
      "100%|████████████| 100/100 [00:10<00:00,  9.62it/s]\n"
     ]
    }
   ],
   "source": [
    "sentiment_result=[]\n",
    "for text in tqdm(tweets.Text):\n",
    "    result = sentiment_analysis_pipeline(text)[0]\n",
    "    sentiment_result.append(result)"
   ]
  },
  {
   "cell_type": "code",
   "execution_count": 8,
   "metadata": {},
   "outputs": [
    {
     "data": {
      "text/html": [
       "<div>\n",
       "<style scoped>\n",
       "    .dataframe tbody tr th:only-of-type {\n",
       "        vertical-align: middle;\n",
       "    }\n",
       "\n",
       "    .dataframe tbody tr th {\n",
       "        vertical-align: top;\n",
       "    }\n",
       "\n",
       "    .dataframe thead th {\n",
       "        text-align: right;\n",
       "    }\n",
       "</style>\n",
       "<table border=\"1\" class=\"dataframe\">\n",
       "  <thead>\n",
       "    <tr style=\"text-align: right;\">\n",
       "      <th></th>\n",
       "      <th>label</th>\n",
       "      <th>score</th>\n",
       "    </tr>\n",
       "  </thead>\n",
       "  <tbody>\n",
       "    <tr>\n",
       "      <td>0</td>\n",
       "      <td>LABEL_0</td>\n",
       "      <td>0.992534</td>\n",
       "    </tr>\n",
       "    <tr>\n",
       "      <td>1</td>\n",
       "      <td>LABEL_1</td>\n",
       "      <td>0.991454</td>\n",
       "    </tr>\n",
       "    <tr>\n",
       "      <td>2</td>\n",
       "      <td>LABEL_1</td>\n",
       "      <td>0.836818</td>\n",
       "    </tr>\n",
       "    <tr>\n",
       "      <td>3</td>\n",
       "      <td>LABEL_1</td>\n",
       "      <td>0.617708</td>\n",
       "    </tr>\n",
       "    <tr>\n",
       "      <td>4</td>\n",
       "      <td>LABEL_1</td>\n",
       "      <td>0.994455</td>\n",
       "    </tr>\n",
       "  </tbody>\n",
       "</table>\n",
       "</div>"
      ],
      "text/plain": [
       "     label     score\n",
       "0  LABEL_0  0.992534\n",
       "1  LABEL_1  0.991454\n",
       "2  LABEL_1  0.836818\n",
       "3  LABEL_1  0.617708\n",
       "4  LABEL_1  0.994455"
      ]
     },
     "execution_count": 8,
     "metadata": {},
     "output_type": "execute_result"
    }
   ],
   "source": [
    "sentiment_result = pd.DataFrame(sentiment_result)\n",
    "sentiment_result.head()"
   ]
  },
  {
   "cell_type": "code",
   "execution_count": 9,
   "metadata": {},
   "outputs": [
    {
     "data": {
      "text/html": [
       "<div>\n",
       "<style scoped>\n",
       "    .dataframe tbody tr th:only-of-type {\n",
       "        vertical-align: middle;\n",
       "    }\n",
       "\n",
       "    .dataframe tbody tr th {\n",
       "        vertical-align: top;\n",
       "    }\n",
       "\n",
       "    .dataframe thead th {\n",
       "        text-align: right;\n",
       "    }\n",
       "</style>\n",
       "<table border=\"1\" class=\"dataframe\">\n",
       "  <thead>\n",
       "    <tr style=\"text-align: right;\">\n",
       "      <th></th>\n",
       "      <th>Tarih</th>\n",
       "      <th>Tweet_id</th>\n",
       "      <th>Text</th>\n",
       "      <th>label</th>\n",
       "      <th>score</th>\n",
       "    </tr>\n",
       "  </thead>\n",
       "  <tbody>\n",
       "    <tr>\n",
       "      <td>0</td>\n",
       "      <td>2020-05-19 16:48:55</td>\n",
       "      <td>1262787328394825729</td>\n",
       "      <td>RT @GllkMuhammet: Yine bir Milli Bayram, AKP Y...</td>\n",
       "      <td>0</td>\n",
       "      <td>0.992534</td>\n",
       "    </tr>\n",
       "    <tr>\n",
       "      <td>1</td>\n",
       "      <td>2020-05-19 16:48:52</td>\n",
       "      <td>1262787318227832833</td>\n",
       "      <td>RT @GkhnKhrman: Türkiye 70 yıllık rüyasını ger...</td>\n",
       "      <td>1</td>\n",
       "      <td>0.991454</td>\n",
       "    </tr>\n",
       "    <tr>\n",
       "      <td>2</td>\n",
       "      <td>2020-05-19 16:48:44</td>\n",
       "      <td>1262787281636806659</td>\n",
       "      <td>Valla sınavdan sonra korona olursam hiç acımam...</td>\n",
       "      <td>1</td>\n",
       "      <td>0.836818</td>\n",
       "    </tr>\n",
       "    <tr>\n",
       "      <td>3</td>\n",
       "      <td>2020-05-19 16:48:43</td>\n",
       "      <td>1262787277446676485</td>\n",
       "      <td>Sağlık Bakanlığı, Türkiye’nin son 24 saatlik k...</td>\n",
       "      <td>1</td>\n",
       "      <td>0.617708</td>\n",
       "    </tr>\n",
       "    <tr>\n",
       "      <td>4</td>\n",
       "      <td>2020-05-19 16:48:39</td>\n",
       "      <td>1262787264574341120</td>\n",
       "      <td>RT @agrresifhatun: Korona bizi bitirdin beee</td>\n",
       "      <td>1</td>\n",
       "      <td>0.994455</td>\n",
       "    </tr>\n",
       "  </tbody>\n",
       "</table>\n",
       "</div>"
      ],
      "text/plain": [
       "                Tarih             Tweet_id  \\\n",
       "0 2020-05-19 16:48:55  1262787328394825729   \n",
       "1 2020-05-19 16:48:52  1262787318227832833   \n",
       "2 2020-05-19 16:48:44  1262787281636806659   \n",
       "3 2020-05-19 16:48:43  1262787277446676485   \n",
       "4 2020-05-19 16:48:39  1262787264574341120   \n",
       "\n",
       "                                                Text  label     score  \n",
       "0  RT @GllkMuhammet: Yine bir Milli Bayram, AKP Y...      0  0.992534  \n",
       "1  RT @GkhnKhrman: Türkiye 70 yıllık rüyasını ger...      1  0.991454  \n",
       "2  Valla sınavdan sonra korona olursam hiç acımam...      1  0.836818  \n",
       "3  Sağlık Bakanlığı, Türkiye’nin son 24 saatlik k...      1  0.617708  \n",
       "4       RT @agrresifhatun: Korona bizi bitirdin beee      1  0.994455  "
      ]
     },
     "execution_count": 9,
     "metadata": {},
     "output_type": "execute_result"
    }
   ],
   "source": [
    "sentiment_result = pd.DataFrame(sentiment_result)\n",
    "tweets = pd.concat([tweets, sentiment_result],axis=1)\n",
    "tweets.label = tweets.label.map({'LABEL_1':1,'LABEL_0':0})\n",
    "tweets.head()"
   ]
  },
  {
   "cell_type": "markdown",
   "metadata": {},
   "source": [
    "### Hepsini Bir araya Getirelim"
   ]
  },
  {
   "cell_type": "code",
   "execution_count": 10,
   "metadata": {},
   "outputs": [],
   "source": [
    "class TwitterSentimentAnalyser:\n",
    "    def __init__(self, consumer_key, consumer_secret, access_token, access_token_secret, keyword, tweetCount):\n",
    "        self.keyword = keyword\n",
    "        self.consumer_key = consumer_key\n",
    "        self.consumer_secret = consumer_secret\n",
    "        self.access_token = access_token\n",
    "        self.access_token_secret = access_token_secret\n",
    "        self.tweetCount = tweetCount\n",
    "        \n",
    "    def getTwitterData(self):\n",
    "        tweets_list = []\n",
    "        \n",
    "        for tweet in api.search(q=self.keyword, count=self.tweetCount, lang='tr-tr'):\n",
    "            tweets_list.append((tweet.created_at,tweet.id,tweet.text))\n",
    "            \n",
    "        self.tweets = pd.DataFrame(tweets_list, columns=[\"Tarih\",'Tweet_id','Text'])\n",
    "            \n",
    "    def bertPipeline(self):\n",
    "        # Eğitilmiş Ağırlıkların Yüklenmesi\n",
    "        model = AutoModelForSequenceClassification.from_pretrained(\"savasy/bert-base-turkish-sentiment-cased\")\n",
    "        tokenizer = AutoTokenizer.from_pretrained(\"savasy/bert-base-turkish-sentiment-cased\")\n",
    "\n",
    "        self.sentiment_analysis_pipeline= pipeline(\"sentiment-analysis\", tokenizer=tokenizer, model=model)\n",
    "        \n",
    "    def sentimentPrediction(self):\n",
    "        self.sentiment_result=[]\n",
    "        for text in tqdm(self.tweets.Text):\n",
    "            result = sentiment_analysis_pipeline(text)[0]\n",
    "            self.sentiment_result.append(result)\n",
    "        \n",
    "        self.sentiment_result = pd.DataFrame(self.sentiment_result)\n",
    "        self.tweets = pd.concat([self.tweets, self.sentiment_result],axis=1)\n",
    "        self.tweets.label = self.tweets.label.map({'LABEL_1':1,'LABEL_0':0})"
   ]
  },
  {
   "cell_type": "code",
   "execution_count": 11,
   "metadata": {},
   "outputs": [],
   "source": [
    "twst = TwitterSentimentAnalyser(consumer_key = \"xxxx\", consumer_secret = \"xxxx\",\n",
    "                                access_token = \"xxxx\", access_token_secret = \"xxxx\",\n",
    "                                keyword='korona', tweetCount=100)"
   ]
  },
  {
   "cell_type": "code",
   "execution_count": 12,
   "metadata": {},
   "outputs": [
    {
     "data": {
      "text/html": [
       "<div>\n",
       "<style scoped>\n",
       "    .dataframe tbody tr th:only-of-type {\n",
       "        vertical-align: middle;\n",
       "    }\n",
       "\n",
       "    .dataframe tbody tr th {\n",
       "        vertical-align: top;\n",
       "    }\n",
       "\n",
       "    .dataframe thead th {\n",
       "        text-align: right;\n",
       "    }\n",
       "</style>\n",
       "<table border=\"1\" class=\"dataframe\">\n",
       "  <thead>\n",
       "    <tr style=\"text-align: right;\">\n",
       "      <th></th>\n",
       "      <th>Tarih</th>\n",
       "      <th>Tweet_id</th>\n",
       "      <th>Text</th>\n",
       "    </tr>\n",
       "  </thead>\n",
       "  <tbody>\n",
       "    <tr>\n",
       "      <td>0</td>\n",
       "      <td>2020-05-19 16:49:07</td>\n",
       "      <td>1262787381473808384</td>\n",
       "      <td>RT @GkhnKhrman: Türkiye 70 yıllık rüyasını ger...</td>\n",
       "    </tr>\n",
       "    <tr>\n",
       "      <td>1</td>\n",
       "      <td>2020-05-19 16:49:07</td>\n",
       "      <td>1262787379489800192</td>\n",
       "      <td>RT @veryansintvcom: İnsan çipleme projesi durd...</td>\n",
       "    </tr>\n",
       "    <tr>\n",
       "      <td>2</td>\n",
       "      <td>2020-05-19 16:49:06</td>\n",
       "      <td>1262787375131959299</td>\n",
       "      <td>RT @seyhmusaydinn: Korona virüs salgın riskine...</td>\n",
       "    </tr>\n",
       "    <tr>\n",
       "      <td>3</td>\n",
       "      <td>2020-05-19 16:49:05</td>\n",
       "      <td>1262787373559156743</td>\n",
       "      <td>@neredelanbuege @allahimnasipet @cocuktrr @evr...</td>\n",
       "    </tr>\n",
       "    <tr>\n",
       "      <td>4</td>\n",
       "      <td>2020-05-19 16:48:55</td>\n",
       "      <td>1262787328394825729</td>\n",
       "      <td>RT @GllkMuhammet: Yine bir Milli Bayram, AKP Y...</td>\n",
       "    </tr>\n",
       "  </tbody>\n",
       "</table>\n",
       "</div>"
      ],
      "text/plain": [
       "                Tarih             Tweet_id  \\\n",
       "0 2020-05-19 16:49:07  1262787381473808384   \n",
       "1 2020-05-19 16:49:07  1262787379489800192   \n",
       "2 2020-05-19 16:49:06  1262787375131959299   \n",
       "3 2020-05-19 16:49:05  1262787373559156743   \n",
       "4 2020-05-19 16:48:55  1262787328394825729   \n",
       "\n",
       "                                                Text  \n",
       "0  RT @GkhnKhrman: Türkiye 70 yıllık rüyasını ger...  \n",
       "1  RT @veryansintvcom: İnsan çipleme projesi durd...  \n",
       "2  RT @seyhmusaydinn: Korona virüs salgın riskine...  \n",
       "3  @neredelanbuege @allahimnasipet @cocuktrr @evr...  \n",
       "4  RT @GllkMuhammet: Yine bir Milli Bayram, AKP Y...  "
      ]
     },
     "execution_count": 12,
     "metadata": {},
     "output_type": "execute_result"
    }
   ],
   "source": [
    "twst.getTwitterData()\n",
    "twst.tweets.head()"
   ]
  },
  {
   "cell_type": "code",
   "execution_count": 13,
   "metadata": {},
   "outputs": [],
   "source": [
    "twst.bertPipeline()"
   ]
  },
  {
   "cell_type": "code",
   "execution_count": 14,
   "metadata": {},
   "outputs": [
    {
     "name": "stderr",
     "output_type": "stream",
     "text": [
      "100%|████████████| 100/100 [00:11<00:00,  8.65it/s]\n"
     ]
    },
    {
     "data": {
      "text/html": [
       "<div>\n",
       "<style scoped>\n",
       "    .dataframe tbody tr th:only-of-type {\n",
       "        vertical-align: middle;\n",
       "    }\n",
       "\n",
       "    .dataframe tbody tr th {\n",
       "        vertical-align: top;\n",
       "    }\n",
       "\n",
       "    .dataframe thead th {\n",
       "        text-align: right;\n",
       "    }\n",
       "</style>\n",
       "<table border=\"1\" class=\"dataframe\">\n",
       "  <thead>\n",
       "    <tr style=\"text-align: right;\">\n",
       "      <th></th>\n",
       "      <th>Tarih</th>\n",
       "      <th>Tweet_id</th>\n",
       "      <th>Text</th>\n",
       "      <th>label</th>\n",
       "      <th>score</th>\n",
       "    </tr>\n",
       "  </thead>\n",
       "  <tbody>\n",
       "    <tr>\n",
       "      <td>0</td>\n",
       "      <td>2020-05-19 16:49:07</td>\n",
       "      <td>1262787381473808384</td>\n",
       "      <td>RT @GkhnKhrman: Türkiye 70 yıllık rüyasını ger...</td>\n",
       "      <td>1</td>\n",
       "      <td>0.991454</td>\n",
       "    </tr>\n",
       "    <tr>\n",
       "      <td>1</td>\n",
       "      <td>2020-05-19 16:49:07</td>\n",
       "      <td>1262787379489800192</td>\n",
       "      <td>RT @veryansintvcom: İnsan çipleme projesi durd...</td>\n",
       "      <td>1</td>\n",
       "      <td>0.619394</td>\n",
       "    </tr>\n",
       "    <tr>\n",
       "      <td>2</td>\n",
       "      <td>2020-05-19 16:49:06</td>\n",
       "      <td>1262787375131959299</td>\n",
       "      <td>RT @seyhmusaydinn: Korona virüs salgın riskine...</td>\n",
       "      <td>1</td>\n",
       "      <td>0.898994</td>\n",
       "    </tr>\n",
       "    <tr>\n",
       "      <td>3</td>\n",
       "      <td>2020-05-19 16:49:05</td>\n",
       "      <td>1262787373559156743</td>\n",
       "      <td>@neredelanbuege @allahimnasipet @cocuktrr @evr...</td>\n",
       "      <td>0</td>\n",
       "      <td>0.593836</td>\n",
       "    </tr>\n",
       "    <tr>\n",
       "      <td>4</td>\n",
       "      <td>2020-05-19 16:48:55</td>\n",
       "      <td>1262787328394825729</td>\n",
       "      <td>RT @GllkMuhammet: Yine bir Milli Bayram, AKP Y...</td>\n",
       "      <td>0</td>\n",
       "      <td>0.992534</td>\n",
       "    </tr>\n",
       "  </tbody>\n",
       "</table>\n",
       "</div>"
      ],
      "text/plain": [
       "                Tarih             Tweet_id  \\\n",
       "0 2020-05-19 16:49:07  1262787381473808384   \n",
       "1 2020-05-19 16:49:07  1262787379489800192   \n",
       "2 2020-05-19 16:49:06  1262787375131959299   \n",
       "3 2020-05-19 16:49:05  1262787373559156743   \n",
       "4 2020-05-19 16:48:55  1262787328394825729   \n",
       "\n",
       "                                                Text  label     score  \n",
       "0  RT @GkhnKhrman: Türkiye 70 yıllık rüyasını ger...      1  0.991454  \n",
       "1  RT @veryansintvcom: İnsan çipleme projesi durd...      1  0.619394  \n",
       "2  RT @seyhmusaydinn: Korona virüs salgın riskine...      1  0.898994  \n",
       "3  @neredelanbuege @allahimnasipet @cocuktrr @evr...      0  0.593836  \n",
       "4  RT @GllkMuhammet: Yine bir Milli Bayram, AKP Y...      0  0.992534  "
      ]
     },
     "execution_count": 14,
     "metadata": {},
     "output_type": "execute_result"
    }
   ],
   "source": [
    "twst.sentimentPrediction()\n",
    "twst.tweets.head()"
   ]
  },
  {
   "cell_type": "code",
   "execution_count": 15,
   "metadata": {},
   "outputs": [
    {
     "name": "stdout",
     "output_type": "stream",
     "text": [
      "Korona Hakkında 2020-05-19 16:42:26 ile 2020-05-19 16:49:07 arasında atılan Tweetlerin Pozitiflik Oranı: 0.58\n"
     ]
    }
   ],
   "source": [
    "print(f\"Korona Hakkında {twst.tweets.Tarih.min()} ile {twst.tweets.Tarih.max()} arasında atılan Tweetlerin Pozitiflik Oranı: {twst.tweets.label.mean()}\")"
   ]
  },
  {
   "cell_type": "code",
   "execution_count": 17,
   "metadata": {},
   "outputs": [
    {
     "data": {
      "image/png": "[encoded data removed]",
      "text/plain": [
       "<Figure size 432x288 with 1 Axes>"
      ]
     },
     "metadata": {},
     "output_type": "display_data"
    }
   ],
   "source": [
    "import matplotlib.pyplot as plt\n",
    "\n",
    "labels = twst.tweets.label.map({1:'Olumlu',0:'Olumsuz'}).value_counts().index.values\n",
    "sizes = twst.tweets.label.value_counts().values\n",
    "\n",
    "fig1, ax1 = plt.subplots()\n",
    "ax1.pie(sizes, labels=labels, autopct='%1.1f%%',\n",
    "        shadow=True, startangle=90)\n",
    "ax1.axis('equal')\n",
    "plt.show()"
   ]
  },
  {
   "cell_type": "code",
   "execution_count": null,
   "metadata": {},
   "outputs": [],
   "source": []
  }
 ],
 "metadata": {
  "kernelspec": {
   "display_name": "Python 3",
   "language": "python",
   "name": "python3"
  },
  "language_info": {
   "codemirror_mode": {
    "name": "ipython",
    "version": 3
   },
   "file_extension": ".py",
   "mimetype": "text/x-python",
   "name": "python",
   "nbconvert_exporter": "python",
   "pygments_lexer": "ipython3",
   "version": "3.7.4"
  }
 },
 "nbformat": 4,
 "nbformat_minor": 4
}
